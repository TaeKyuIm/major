{
 "cells": [
  {
   "cell_type": "code",
   "execution_count": 132,
   "id": "47bb4411",
   "metadata": {},
   "outputs": [
    {
     "name": "stdout",
     "output_type": "stream",
     "text": [
      "The autoreload extension is already loaded. To reload it, use:\n",
      "  %reload_ext autoreload\n"
     ]
    }
   ],
   "source": [
    "import numpy as np\n",
    "import pyswarms as ps\n",
    "\n",
    "%load_ext autoreload\n",
    "%autoreload 2"
   ]
  },
  {
   "cell_type": "code",
   "execution_count": 133,
   "id": "867dff0c",
   "metadata": {},
   "outputs": [],
   "source": [
    "def distance(query, target):\n",
    "    x_dist = (target[0] - query[0])**2\n",
    "    y_dist = (target[1] - query[1])**2\n",
    "    z_dist = (target[2] - query[2])**2\n",
    "    dist = np.sqrt(x_dist+y_dist+z_dist)\n",
    "    return dist"
   ]
  },
  {
   "cell_type": "code",
   "execution_count": 134,
   "id": "34907172",
   "metadata": {},
   "outputs": [],
   "source": [
    "swarm_size = 20\n",
    "dim = 4        # Dimension of X\n",
    "epsilon = 1.0\n",
    "options = {'c1': 1.5, 'c2':1.5, 'w':0.5}\n",
    "\n",
    "constraints = (np.array([0,0,0,0]),\n",
    "               np.array([np.pi,np.pi,np.pi,np.pi]))\n",
    "\n",
    "d1 = 62\n",
    "d2 = 102\n",
    "d3 = 95\n",
    "d4 = -35\n",
    "d5 = 160 # 집계 끝을 기준으로 하였음"
   ]
  },
  {
   "cell_type": "code",
   "execution_count": 135,
   "id": "446efc6d",
   "metadata": {},
   "outputs": [],
   "source": [
    "def rot_x(theta):\n",
    "    T = np.array([[1, 0, 0, 0], \n",
    "                  [0, np.cos(theta), -np.sin(theta), 0],\n",
    "                 [0, np.sin(theta), np.cos(theta), 0],\n",
    "                 [0, 0, 0, 1]\n",
    "                 ])\n",
    "    return T\n",
    "\n",
    "def rot_y(theta):\n",
    "    T = np.array([[np.cos(theta), 0, np.sin(theta), 0], \n",
    "                  [0, 1, 0, 0],\n",
    "                 [-np.sin(theta), 0, np.cos(theta), 0],\n",
    "                 [0, 0, 0, 1]\n",
    "                 ])\n",
    "    return T\n",
    "\n",
    "def rot_z(theta):\n",
    "    T = np.array([[np.cos(theta), -np.sin(theta), 0, 0], \n",
    "                  [np.sin(theta), np.cos(theta), 0, 0],\n",
    "                 [0, 0, 1, 0],\n",
    "                 [0, 0, 0, 1]\n",
    "                 ])\n",
    "    return T\n",
    "\n",
    "def translation(d_x, d_y, d_z):\n",
    "    T = np.array([[1, 0, 0, d_x],\n",
    "                 [0, 1, 0, d_y],\n",
    "                 [0, 0, 1, d_z],\n",
    "                 [0, 0, 0, 1]])\n",
    "    return T"
   ]
  },
  {
   "cell_type": "code",
   "execution_count": 136,
   "id": "7bae4a35",
   "metadata": {},
   "outputs": [],
   "source": [
    "def get_end_tip_position(params):\n",
    "    t_00 = np.array([[1, 0, 0, 0], [0, 1, 0, 0], [0, 0, 1, 0], [0, 0, 0, 1]])\n",
    "    t_01 = rot_z(params[0]) # 첫번째 모터 회전\n",
    "    t_12 = translation(0, 0, d1)\n",
    "    t_23 = rot_y(-np.pi/2)\n",
    "    t_34 = rot_z(params[1]) # 두번째 모터 회전\n",
    "    t_45 = translation(0, d2, 0)\n",
    "    t_56 = rot_y(np.pi)\n",
    "    t_67 = rot_z(params[2]) # 세번째 모터 회전\n",
    "    t_78 = translation(0, d3, 0)\n",
    "    t_89 = rot_z(params[3]) # 네번째 모터 회전\n",
    "    t_910 = translation(d4, d5, 0)\n",
    "    \n",
    "    end_tip_m = t_00.dot(t_01).dot(t_12).dot(t_23).dot(t_34).dot(t_45).dot(t_56).dot(t_67).dot(t_78).dot(t_89).dot(t_910)\n",
    "    \n",
    "    pos = np.array([end_tip_m[0,3],end_tip_m[1,3],end_tip_m[2,3]])\n",
    "    return pos"
   ]
  },
  {
   "cell_type": "code",
   "execution_count": 137,
   "id": "8f8ec114",
   "metadata": {},
   "outputs": [],
   "source": [
    "def opt_func(X):\n",
    "    n_particles = X.shape[0]  # number of particles\n",
    "    target = np.array([-141.29, -220,0]) # 각도를 찾을 점\n",
    "    dist = [distance(get_end_tip_position(X[i]), target) for i in range(n_particles)]\n",
    "    return np.array(dist)"
   ]
  },
  {
   "cell_type": "code",
   "execution_count": 138,
   "id": "0c1a7e7c",
   "metadata": {},
   "outputs": [
    {
     "name": "stderr",
     "output_type": "stream",
     "text": [
      "2022-05-12 21:52:29,682 - pyswarms.single.global_best - INFO - Optimize for 1000 iters with {'c1': 1.5, 'c2': 1.5, 'w': 0.5}\n",
      "pyswarms.single.global_best: 100%|███████████████████████████████████████████████████████|1000/1000, best_cost=2.93e-14\n",
      "2022-05-12 21:52:33,736 - pyswarms.single.global_best - INFO - Optimization finished | best cost: 2.929642751054232e-14, best pos: [2.57070099 1.35095283 1.02788088 0.53388354]\n"
     ]
    },
    {
     "name": "stdout",
     "output_type": "stream",
     "text": [
      "CPU times: total: 4.19 s\n",
      "Wall time: 4.06 s\n"
     ]
    }
   ],
   "source": [
    "%%time\n",
    "# Call an instance of PSO\n",
    "optimizer = ps.single.GlobalBestPSO(n_particles=swarm_size,\n",
    "                                    dimensions=dim,\n",
    "                                    options=options,\n",
    "                                    bounds=constraints)\n",
    "\n",
    "# Perform optimization\n",
    "cost, joint_vars = optimizer.optimize(opt_func, iters=1000)"
   ]
  },
  {
   "cell_type": "code",
   "execution_count": 139,
   "id": "f690a713",
   "metadata": {},
   "outputs": [
    {
     "name": "stdout",
     "output_type": "stream",
     "text": [
      "[-1.41290000e+02 -2.20000000e+02  7.10542736e-15]\n"
     ]
    }
   ],
   "source": [
    "print(get_end_tip_position(joint_vars))"
   ]
  },
  {
   "cell_type": "code",
   "execution_count": 140,
   "id": "61db268f",
   "metadata": {},
   "outputs": [
    {
     "data": {
      "text/plain": [
       "array([2.57070099, 1.35095283, 1.02788088, 0.53388354])"
      ]
     },
     "execution_count": 140,
     "metadata": {},
     "output_type": "execute_result"
    }
   ],
   "source": [
    "joint_vars"
   ]
  },
  {
   "cell_type": "code",
   "execution_count": 141,
   "id": "ab683570",
   "metadata": {},
   "outputs": [
    {
     "data": {
      "text/plain": [
       "array([147.29,  77.4 ,  58.89,  30.59])"
      ]
     },
     "execution_count": 141,
     "metadata": {},
     "output_type": "execute_result"
    }
   ],
   "source": [
    "np.round_(np.degrees(joint_vars), 2)"
   ]
  }
 ],
 "metadata": {
  "kernelspec": {
   "display_name": "Python 3 (ipykernel)",
   "language": "python",
   "name": "python3"
  },
  "language_info": {
   "codemirror_mode": {
    "name": "ipython",
    "version": 3
   },
   "file_extension": ".py",
   "mimetype": "text/x-python",
   "name": "python",
   "nbconvert_exporter": "python",
   "pygments_lexer": "ipython3",
   "version": "3.9.7"
  }
 },
 "nbformat": 4,
 "nbformat_minor": 5
}
