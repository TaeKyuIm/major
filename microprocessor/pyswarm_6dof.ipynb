{
 "cells": [
  {
   "cell_type": "code",
   "execution_count": 1,
   "id": "9520d5cf",
   "metadata": {},
   "outputs": [],
   "source": [
    "import numpy as np\n",
    "import pyswarms as ps\n",
    "\n",
    "%load_ext autoreload\n",
    "%autoreload 2"
   ]
  },
  {
   "cell_type": "code",
   "execution_count": 2,
   "id": "696fd4b0",
   "metadata": {},
   "outputs": [],
   "source": [
    "def distance(query, target):\n",
    "    x_dist = (target[0] - query[0])**2\n",
    "    y_dist = (target[1] - query[1])**2\n",
    "    z_dist = (target[2] - query[2])**2\n",
    "    dist = np.sqrt(x_dist+y_dist+z_dist)\n",
    "    return dist"
   ]
  },
  {
   "cell_type": "markdown",
   "id": "15de96a2",
   "metadata": {},
   "source": [
    "[-2, 2, 3]을 위치로 inverse kinematics 풀기"
   ]
  },
  {
   "cell_type": "code",
   "execution_count": 3,
   "id": "6d68486a",
   "metadata": {},
   "outputs": [],
   "source": [
    "swarm_size = 20\n",
    "dim = 6        # Dimension of X\n",
    "epsilon = 1.0\n",
    "options = {'c1': 1.5, 'c2':1.5, 'w':0.5}\n",
    "\n",
    "constraints = (np.array([-np.pi , -np.pi/2 , 1 , -np.pi , -5*np.pi/36 , -np.pi]),\n",
    "               np.array([np.pi  ,  np.pi/2 , 3 ,  np.pi ,  5*np.pi/36 ,  np.pi]))\n",
    "\n",
    "d1 = d2 = d3 = d4 = d5 = d6 = 3"
   ]
  },
  {
   "cell_type": "code",
   "execution_count": 4,
   "id": "ae08fe7d",
   "metadata": {},
   "outputs": [],
   "source": [
    "def getTransformMatrix(theta, d, a, alpha):\n",
    "    T = np.array([[np.cos(theta) , -np.sin(theta)*np.cos(alpha) ,  np.sin(theta)*np.sin(alpha) , a*np.cos(theta)],\n",
    "                  [np.sin(theta) ,  np.cos(theta)*np.cos(alpha) , -np.cos(theta)*np.sin(alpha) , a*np.sin(theta)],\n",
    "                  [0             ,  np.sin(alpha)               ,  np.cos(alpha)               , d              ],\n",
    "                  [0             ,  0                           ,  0                           , 1              ]\n",
    "                 ])\n",
    "    return T"
   ]
  },
  {
   "cell_type": "markdown",
   "id": "b2f5a99a",
   "metadata": {},
   "source": [
    "<img src='https://www.researchgate.net/profile/Ramabalan-Sundaresan/publication/220553251/figure/fig3/AS:585607604621312@1516631141177/Stanford-robot-manipulator.png'>"
   ]
  },
  {
   "cell_type": "code",
   "execution_count": 5,
   "id": "1a94efba",
   "metadata": {},
   "outputs": [],
   "source": [
    "def get_end_tip_position(params):\n",
    "    # 변환요소들을 정의\n",
    "    t_00 = np.array([[1,0,0,0],[0,1,0,0],[0,0,1,0],[0,0,0,1]])\n",
    "    t_01 = getTransformMatrix(params[0] , d2        , 0 , -np.pi/2)\n",
    "    t_12 = getTransformMatrix(params[1] , d2        , 0 , -np.pi/2)\n",
    "    t_23 = getTransformMatrix(0         , params[2] , 0 , -np.pi/2)\n",
    "    t_34 = getTransformMatrix(params[3] , d4        , 0 , -np.pi/2)\n",
    "    t_45 = getTransformMatrix(params[4] , 0         , 0 ,  np.pi/2)\n",
    "    t_56 = getTransformMatrix(params[5] , d6        ,0  ,  0)\n",
    "\n",
    "    # 곱해서 변환식을 정의\n",
    "    end_tip_m = t_00.dot(t_01).dot(t_12).dot(t_23).dot(t_34).dot(t_45).dot(t_56)\n",
    "\n",
    "    # The coordinates of the end tip are the 3 upper entries in the 4th column\n",
    "    pos = np.array([end_tip_m[0,3],end_tip_m[1,3],end_tip_m[2,3]])\n",
    "    return pos"
   ]
  },
  {
   "cell_type": "markdown",
   "id": "7f0d41f5",
   "metadata": {},
   "source": [
    "변환 행렬도 정의  \n",
    "행렬의 정의방식은 https://en.wikipedia.org/wiki/Denavit%E2%80%93Hartenberg_parameters  \n",
    "theta : z축 기준 회전 각, d : 이동하는 정도, a : 회전팔, alpha : x축 기준 "
   ]
  },
  {
   "cell_type": "markdown",
   "id": "040ea985",
   "metadata": {},
   "source": [
    "변환 행렬을 정의하여 우리가 어떤 함수에 대해 최적화를 진행할지 정의해줌"
   ]
  },
  {
   "cell_type": "code",
   "execution_count": 6,
   "id": "376dc7e9",
   "metadata": {},
   "outputs": [],
   "source": [
    "def opt_func(X):\n",
    "    n_particles = X.shape[0]  # number of particles\n",
    "    target = np.array([-2,2,3]) # 각도를 찾을 점\n",
    "    dist = [distance(get_end_tip_position(X[i]), target) for i in range(n_particles)]\n",
    "    return np.array(dist)"
   ]
  },
  {
   "cell_type": "markdown",
   "id": "12603492",
   "metadata": {},
   "source": [
    "변환 행렬을 이용하여 opt_func 정의"
   ]
  },
  {
   "cell_type": "code",
   "execution_count": 7,
   "id": "e7f60d7b",
   "metadata": {},
   "outputs": [
    {
     "name": "stderr",
     "output_type": "stream",
     "text": [
      "2022-05-11 15:54:14,059 - pyswarms.single.global_best - INFO - Optimize for 1000 iters with {'c1': 1.5, 'c2': 1.5, 'w': 0.5}\n",
      "pyswarms.single.global_best: 100%|██████████████████████████████████████████████████████████|1000/1000, best_cost=0.086\n",
      "2022-05-11 15:54:18,979 - pyswarms.single.global_best - INFO - Optimization finished | best cost: 0.0860396933019416, best pos: [-2.66357148 -0.37917355  1.10283597 -2.38611434 -0.39267426 -0.28462112]\n"
     ]
    },
    {
     "name": "stdout",
     "output_type": "stream",
     "text": [
      "CPU times: total: 5.16 s\n",
      "Wall time: 4.92 s\n"
     ]
    }
   ],
   "source": [
    "%%time\n",
    "# Call an instance of PSO\n",
    "optimizer = ps.single.GlobalBestPSO(n_particles=swarm_size,\n",
    "                                    dimensions=dim,\n",
    "                                    options=options,\n",
    "                                    bounds=constraints)\n",
    "\n",
    "# Perform optimization\n",
    "cost, joint_vars = optimizer.optimize(opt_func, iters=1000)"
   ]
  },
  {
   "cell_type": "code",
   "execution_count": 8,
   "id": "1f191427",
   "metadata": {},
   "outputs": [
    {
     "name": "stdout",
     "output_type": "stream",
     "text": [
      "[-2.06809186  2.05009895  3.01601321]\n"
     ]
    }
   ],
   "source": [
    "print(get_end_tip_position(joint_vars))"
   ]
  },
  {
   "cell_type": "markdown",
   "id": "d9653c0e",
   "metadata": {},
   "source": [
    "최적화를 통해 만들어낸 위치  \n",
    "[-2, 2, 3]과 그렇게 차이 안남"
   ]
  },
  {
   "cell_type": "code",
   "execution_count": 9,
   "id": "da2a510a",
   "metadata": {},
   "outputs": [
    {
     "data": {
      "text/plain": [
       "0.0860396933019416"
      ]
     },
     "execution_count": 9,
     "metadata": {},
     "output_type": "execute_result"
    }
   ],
   "source": [
    "cost"
   ]
  },
  {
   "cell_type": "code",
   "execution_count": 10,
   "id": "a6485a7f",
   "metadata": {
    "scrolled": true
   },
   "outputs": [
    {
     "data": {
      "text/plain": [
       "array([-2.66357148, -0.37917355,  1.10283597, -2.38611434, -0.39267426,\n",
       "       -0.28462112])"
      ]
     },
     "execution_count": 10,
     "metadata": {},
     "output_type": "execute_result"
    }
   ],
   "source": [
    "joint_vars"
   ]
  },
  {
   "cell_type": "code",
   "execution_count": 11,
   "id": "10c99606",
   "metadata": {},
   "outputs": [
    {
     "data": {
      "text/plain": [
       "array([-152.61140431,  -21.72504391,   63.18784668, -136.71428121,\n",
       "        -22.49857808,  -16.30758878])"
      ]
     },
     "execution_count": 11,
     "metadata": {},
     "output_type": "execute_result"
    }
   ],
   "source": [
    "np.degrees(joint_vars)"
   ]
  }
 ],
 "metadata": {
  "kernelspec": {
   "display_name": "Python 3 (ipykernel)",
   "language": "python",
   "name": "python3"
  },
  "language_info": {
   "codemirror_mode": {
    "name": "ipython",
    "version": 3
   },
   "file_extension": ".py",
   "mimetype": "text/x-python",
   "name": "python",
   "nbconvert_exporter": "python",
   "pygments_lexer": "ipython3",
   "version": "3.9.7"
  }
 },
 "nbformat": 4,
 "nbformat_minor": 5
}
